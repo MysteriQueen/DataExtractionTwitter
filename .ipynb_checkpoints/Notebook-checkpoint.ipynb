{
 "cells": [
  {
   "cell_type": "markdown",
   "id": "206024a4",
   "metadata": {},
   "source": [
    "# Twitter Data Extraction \n",
    "\n",
    "Module Code: **CS3PP19**\n",
    "\n",
    "Assignment Report Title: **Twitter Data Extraction**\n",
    "\n",
    "Student Numbers: **28010336, 28012606, 28006461**\n",
    "\n",
    "Date Completed: **/11/2021** \n",
    "\n",
    "Actual hours spent for the assignment: **2 hours**\n",
    "\n",
    "Assignment evaluation (3 key points):  \n",
    "1. \n",
    "2. \n",
    "3."
   ]
  },
  {
   "cell_type": "markdown",
   "id": "0a0274c0",
   "metadata": {},
   "source": [
    "# Introduction\n",
    "\n",
    "In this data analysis task, we will analyse 3 selected Twitter accounts *for a variety of information.*\n",
    "\n",
    "In task 1 we gather data from twitter regarding 3 user accounts, and process this data into Pandas dataframes along with cleansing them down to crtical data only to reduce the size of our dataset(s).\n",
    "\n",
    "In task 2, we merge all data from the accounts and perform an explroatory data analysis (EDA) on the conjoined data in order to examine their characteristics. Specifically, we intend to analyse the following:\n",
    "\n",
    "- Follower to following ratio (including the individual counts of each) plotted as a percentage bar of the ratio\n",
    "- Activity share (status updates, retweets, favourites) represented as a piechart\n",
    "- Most popular mentions\n",
    "- \n",
    "\n"
   ]
  },
  {
   "cell_type": "markdown",
   "id": "68c63951",
   "metadata": {},
   "source": [
    "# Task 1 - Data Gathering and Pre-processing"
   ]
  },
  {
   "cell_type": "markdown",
   "id": "5e29728c",
   "metadata": {},
   "source": [
    "## API connection"
   ]
  },
  {
   "cell_type": "markdown",
   "id": "e3122da5",
   "metadata": {},
   "source": [
    "Using Tweepy, we use our twitter developer account’s credentials to authorise it’s usage and create an instance of the Tweepy API.\n",
    "\n",
    "https://docs.tweepy.org/en/stable/auth_tutorial.html"
   ]
  },
  {
   "cell_type": "code",
   "execution_count": 1,
   "id": "1fed6860",
   "metadata": {},
   "outputs": [],
   "source": [
    "import tweepy\n",
    "\n",
    "# API credentials\n",
    "api_key = 'eqpYibo0WT2jOr675owJSUNmi'\n",
    "api_secret_key = 'rh8HHqs79JSAyyp9xWZBV9BVrGxqBqOKHml2oRDU3bTzU8XVcj'\n",
    "\n",
    "# Access token credentials\n",
    "access_token = '1449033199422693384-E5rEswGDQSyhGUljpUSTrHK1Vuc5az'\n",
    "access_token_secret = 'jVjhFidOjMKEQtmRdTVgnkauwYcy45NpSl50WjT5a77bJ'\n",
    "\n",
    "\n",
    "auth = tweepy.OAuthHandler(api_key, api_secret_key) # Create authorisation instance\n",
    "auth.set_access_token(access_token, access_token_secret) # Configure with our access token\n",
    "\n",
    "api = tweepy.API(auth); # Create an instance of the tweepy API using the above authenication instance"
   ]
  },
  {
   "cell_type": "markdown",
   "id": "42c3ca06",
   "metadata": {},
   "source": [
    "Store user account references in a list\n",
    "\n",
    "https://docs.tweepy.org/en/stable/api.html#tweepy.API.get_user"
   ]
  },
  {
   "cell_type": "code",
   "execution_count": 5,
   "id": "e525d35b",
   "metadata": {},
   "outputs": [],
   "source": [
    "#users = [api.get_user(screen_name = 'BarackObama'), \n",
    "#         api.get_user(screen_name = 'iJustine'), \n",
    "#         api.get_user(screen_name = 'LeoDiCaprio')]\n",
    "\n",
    "users = {'iJustine': api.get_user(screen_name = 'iJustine'),\n",
    "         'BarackObama': api.get_user(screen_name = 'BarackObama'),\n",
    "         'LeoDiCaprio': api.get_user(screen_name = 'LeoDiCaprio')}"
   ]
  },
  {
   "cell_type": "markdown",
   "id": "b3f43a50",
   "metadata": {},
   "source": [
    "## Data extraction\n",
    "\n",
    "In the data extraction stage, we define and select the data we require for our analysis; for us, we define this as a set of API calls and selecting the raw data from which we will use - reducing the size our dataset(s).\n",
    "\n",
    "In order to obtain the following list, we searched the api documentation of Tweepy (https://docs.tweepy.org/en/stable/api.html) and sought at methods which can acquire useful data of an account. These methods are:\n",
    "- Friends - get_friends()\n",
    "- Followers - get_followers()\n",
    "- Posts - user_timeline()\n",
    "- Retweets - get_retweets(), get_retweets_of_me()\n",
    "- Likes - get_favourites()\n",
    "\n",
    "The list below shows all the raw data that we will be extracting from the accounts:\n",
    "- Number of accounts that they are following.\n",
    "- Number of followers.\n",
    "- Number of original tweets that were posted.\n",
    "- Number of tweets that the users have liked.\n",
    "- Number of likes that each original tweet has.\n",
    "- Number of times that each original tweet have been retweeted.\n",
    "- Number of retweets that were posted by the user.\n",
    "- Number of times that the accounts were mentioned."
   ]
  },
  {
   "cell_type": "code",
   "execution_count": 20,
   "id": "b64f33b2",
   "metadata": {},
   "outputs": [],
   "source": [
    "import pandas as pd\n",
    "import json\n",
    "\n",
    "# https://developer.twitter.com/en/docs/twitter-api/rate-limits\n",
    "\n",
    "class RawUserData:\n",
    "    \n",
    "    # User information\n",
    "    username = None # The username of the account this UserData represents\n",
    "    dateJoined = None # The date the account was created\n",
    "    \n",
    "    # Metrics\n",
    "    friendsCount = None # The number of people this account follows\n",
    "    followersCount = None # The number of people following this account\n",
    "    tweetCount = None # The number of tweets this account has made\n",
    "    likesCount = None # The number of likes the account has done\n",
    "    retweetCount = None # The number of retweets the account has done\n",
    "    mentionCount = None # The number of times this account has mentioned someone/something in a tweet\n",
    "    \n",
    "    # User activity\n",
    "    tweets = [] # The tweets this account has made (original tweets)\n",
    "    retweets = [] # The retweets this account has made\n",
    "    likes = [] # The likes this account has made\n",
    "    \n",
    "    # Network\n",
    "    mentions = [] # What this account has mentioned\n",
    "    \n",
    "    def __init__(self, user):\n",
    "        \n",
    "        self.username = user.name\n",
    "        self.friendsCount = user.friends_count\n",
    "        self.followersCount = user.followers_count\n",
    "        self.tweetCount= user.statuses_count\n",
    "        self.likesCount = user.favourites_count\n",
    "        self.dateJoined = user.created_at.strftime('%d-%m-%Y')\n",
    "        \n",
    "        print(f\"{self.username}:\\n\"\n",
    "              f\"\\t- Friends: {self.friendsCount}\\n\"\n",
    "              f\"\\t- Followers: {self.followersCount}\\n\"\n",
    "              f\"\\t- Tweets: {self.tweetCount}\\n\"\n",
    "              f\"\\t- Likes: {self.likesCount}\\n\"\n",
    "              f\"\\t- Data Joined: {self.dateJoined}\")     \n",
    "        \n",
    "    def ExamplePrintTweets(self):\n",
    "        count = 0\n",
    "        for tweet in tweepy.Cursor(api.user_timeline, screen_name=self.username, tweet_mode=\"extended\").items():\n",
    "            count += 1\n",
    "            print(f\"{count}\\t{tweet.user.id}\\t{tweet.user.screen_name}\\t{tweet.created_at}\\t{tweet.full_text}\")\n",
    "        \n",
    "    def ToPandasDataframe(self):\n",
    "        return\n",
    "\n",
    "#for friend in tweepy.Cursor(api.get_friends, screen_name = 'iJustine', count = 100).items():"
   ]
  },
  {
   "cell_type": "markdown",
   "id": "c26d5393",
   "metadata": {},
   "source": [
    "## Data cleaning\n",
    "*From the selected data, we resolve any missing values, duplicated occurences, etc.*\n",
    "\n",
    "In preperation for the next stage of pre-processing of the data.\n",
    "\n",
    "This step is crucial in ensuring the resultant final information extracted is accurate and reliable. Furthermore, cleaning the data extracted allows for pre-processing to be a simpler and more reliable process as duplicate or missing values are resolved."
   ]
  },
  {
   "cell_type": "code",
   "execution_count": 19,
   "id": "55209b17",
   "metadata": {},
   "outputs": [
    {
     "name": "stdout",
     "output_type": "stream",
     "text": [
      "iJustine:\n",
      "\t- Friends: 2724\n",
      "\t- Followers: 1795115\n",
      "\t- Tweets: 60390\n",
      "\t- Likes: 21747\n",
      "\t- Data Joined: 10-10-2006\n",
      "Barack Obama:\n",
      "\t- Friends: 588096\n",
      "\t- Followers: 130220716\n",
      "\t- Tweets: 16311\n",
      "\t- Likes: 0\n",
      "\t- Data Joined: 05-03-2007\n",
      "Leonardo DiCaprio:\n",
      "\t- Friends: 234\n",
      "\t- Followers: 19407753\n",
      "\t- Tweets: 2478\n",
      "\t- Likes: 327\n",
      "\t- Data Joined: 16-04-2010\n"
     ]
    }
   ],
   "source": [
    "# Go through each account extracting the required data and their raw contents as a UserData object\n",
    "\n",
    "for user in users.values():\n",
    "    userData = UserData(user)\n",
    "    #userData.ExamplePrintTweets()\n"
   ]
  },
  {
   "cell_type": "markdown",
   "id": "c2afedc4",
   "metadata": {},
   "source": [
    "## Data pre-processing\n",
    "The pre-processing stage of data extraction requires the selected raw data be prepared for analysis. To do so, we transform the cleaned raw data into Pandas data frames which can be done almost directly as the data was cleaned in the previous stage.\n",
    "\n",
    "For an account:\n",
    "\n",
    "| User        | Description |\n",
    "| ----------- | ----------- |\n",
    "| Header      | Title       |\n",
    "| Paragraph   | Text        |\n",
    "\n",
    "| User        | Description |\n",
    "| ----------- | ----------- |\n",
    "| Header      | Title       |\n",
    "| Paragraph   | Text        |\n",
    "\n",
    "\n",
    "| User        | Description |\n",
    "| ----------- | ----------- |\n",
    "| Header      | Title       |\n",
    "| Paragraph   | Text        |\n",
    "\n"
   ]
  },
  {
   "cell_type": "code",
   "execution_count": 6,
   "id": "6c42a385",
   "metadata": {},
   "outputs": [],
   "source": [
    "# Take the RawUserData of an account and transform it into Pandas dataframes\n",
    "\n",
    "# User information\n",
    "    username = None # The username of the account this UserData represents\n",
    "    dateJoined = None # The date the account was created\n",
    "    \n",
    "    # Metrics\n",
    "    friendsCount = None # The number of people this account follows\n",
    "    followersCount = None # The number of people following this account\n",
    "    tweetCount = None # The number of tweets this account has made\n",
    "    likesCount = None # The number of likes the account has done\n",
    "    retweetCount = None # The number of retweets the account has done\n",
    "    mentionCount = None # The number of times this account has mentioned someone/something in a tweet\n",
    "    \n",
    "    # User activity\n",
    "    tweets = [] # The tweets this account has made (original tweets)\n",
    "    retweets = [] # The retweets this account has made\n",
    "    likes = [] # The likes this account has made\n",
    "    \n",
    "    # Network\n",
    "    mentions = [] # What this account has mentioned\n",
    "\n",
    "class PandasUserData:\n",
    "    \n",
    "    userData = None\n",
    "    \n",
    "    # Status updates\n",
    "    \n",
    "    \n",
    "    def __init__(self, userData):\n",
    "        \n",
    "        "
   ]
  },
  {
   "cell_type": "markdown",
   "id": "e312c9d6",
   "metadata": {},
   "source": [
    "## Task 1 Conclusion"
   ]
  },
  {
   "cell_type": "markdown",
   "id": "3cca11cd",
   "metadata": {},
   "source": [
    "# Task 2 - Exploratory Data Analysis (EDA)"
   ]
  },
  {
   "cell_type": "code",
   "execution_count": null,
   "id": "64320891",
   "metadata": {},
   "outputs": [],
   "source": []
  },
  {
   "cell_type": "code",
   "execution_count": null,
   "id": "663dad36",
   "metadata": {},
   "outputs": [],
   "source": []
  }
 ],
 "metadata": {
  "kernelspec": {
   "display_name": "Python 3",
   "language": "python",
   "name": "python3"
  },
  "language_info": {
   "codemirror_mode": {
    "name": "ipython",
    "version": 3
   },
   "file_extension": ".py",
   "mimetype": "text/x-python",
   "name": "python",
   "nbconvert_exporter": "python",
   "pygments_lexer": "ipython3",
   "version": "3.8.8"
  }
 },
 "nbformat": 4,
 "nbformat_minor": 5
}
