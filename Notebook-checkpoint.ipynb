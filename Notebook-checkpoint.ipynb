{
 "cells": [
  {
   "cell_type": "markdown",
   "id": "843daca4",
   "metadata": {},
   "source": [
    "# Heading 1"
   ]
  },
  {
   "cell_type": "markdown",
   "id": "166c9a64",
   "metadata": {},
   "source": [
    "## API connection and initial data extraction  "
   ]
  },
  {
   "cell_type": "code",
   "execution_count": 1,
   "id": "53e64cf7",
   "metadata": {},
   "outputs": [],
   "source": [
    "import tweepy"
   ]
  },
  {
   "cell_type": "markdown",
   "id": "ce190dbe",
   "metadata": {},
   "source": [
    "Using Tweepy, we use our twitter developer account’s credentials to authorise it’s usage and create an instance of the Tweepy API."
   ]
  },
  {
   "cell_type": "code",
   "execution_count": 7,
   "id": "69b70303",
   "metadata": {},
   "outputs": [],
   "source": [
    "# https://docs.tweepy.org/en/stable/auth_tutorial.html\n",
    "\n",
    "# API credentials\n",
    "api_key = 'iMrPE3cykYpyquyXgqNJB7WYo'\n",
    "api_secret_key = 'jOs8Cm4tm6yyYmXR8pDiqwX5lTsJZpAY2hdqzwj6vd49F0L5u3'\n",
    "\n",
    "# Access token credentials\n",
    "access_token = '1449033199422693384-C4YqyofUjU9YmbOdjIbElqYxPCWyYY'\n",
    "access_token_secret = 's8F2BlaLqGgmPbKI483cbeqAXYUtemRpp3f665kTjdcq8'\n",
    "\n",
    "\n",
    "auth = tweepy.OAuthHandler(api_key, api_secret_key) # Create authorisation instance\n",
    "auth.set_access_token(access_token, access_token_secret) # Configure with our access token\n",
    "\n",
    "api = tweepy.API(auth); # Create an instance of the tweepy API using the above authenication instance"
   ]
  },
  {
   "cell_type": "markdown",
   "id": "ea396b11",
   "metadata": {},
   "source": [
    "Store user account references in a list"
   ]
  },
  {
   "cell_type": "code",
   "execution_count": 28,
   "id": "5176d30f",
   "metadata": {},
   "outputs": [],
   "source": [
    "# https://docs.tweepy.org/en/stable/api.html#tweepy.API.get_user\n",
    "users = [api.get_user(screen_name = 'iJustine')]"
   ]
  },
  {
   "cell_type": "markdown",
   "id": "f6a65578",
   "metadata": {},
   "source": [
    "Display key information of the accounts"
   ]
  },
  {
   "cell_type": "code",
   "execution_count": 37,
   "id": "cab95003",
   "metadata": {},
   "outputs": [
    {
     "name": "stdout",
     "output_type": "stream",
     "text": [
      "iJustine: Followers (1794443), Tweets (60345) - Created at 10-10-2006 02:53:00 UTC\n"
     ]
    }
   ],
   "source": [
    "for user in users:\n",
    "    print(\"{}: Followers ({}), Tweets ({}) - Created at {}\".format(user.name, user.followers_count, user.statuses_count, user.created_at.strftime('%d-%m-%Y %H:%M:%S %Z')))"
   ]
  },
  {
   "cell_type": "code",
   "execution_count": null,
   "id": "c1d15a92",
   "metadata": {},
   "outputs": [],
   "source": []
  }
 ],
 "metadata": {
  "kernelspec": {
   "display_name": "Python 3",
   "language": "python",
   "name": "python3"
  },
  "language_info": {
   "codemirror_mode": {
    "name": "ipython",
    "version": 3
   },
   "file_extension": ".py",
   "mimetype": "text/x-python",
   "name": "python",
   "nbconvert_exporter": "python",
   "pygments_lexer": "ipython3",
   "version": "3.8.8"
  }
 },
 "nbformat": 4,
 "nbformat_minor": 5
}
