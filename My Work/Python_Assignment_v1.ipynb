{
 "cells": [
  {
   "cell_type": "markdown",
   "id": "206024a4",
   "metadata": {},
   "source": [
    "# Twitter Data Extraction \n",
    "\n",
    "Module Code: **CS3PP19**\n",
    "\n",
    "Assignment Report Title: **Twitter Data Extraction**\n",
    "\n",
    "Student Numbers: **28010336, 28012606, 28006461**\n",
    "\n",
    "Date Completed: **/11/2021** \n",
    "\n",
    "Actual hours spent for the assignment: **1 hours**\n",
    "\n",
    "Assignment evaluation (3 key points):  \n",
    "1. \n",
    "2. \n",
    "3."
   ]
  },
  {
   "cell_type": "markdown",
   "id": "0a0274c0",
   "metadata": {},
   "source": [
    "# Introduction"
   ]
  },
  {
   "cell_type": "markdown",
   "id": "68c63951",
   "metadata": {},
   "source": [
    "# Task 1 - Data Gathering and Pre-processing"
   ]
  },
  {
   "cell_type": "markdown",
   "id": "5e29728c",
   "metadata": {},
   "source": [
    "## API connection"
   ]
  },
  {
   "cell_type": "markdown",
   "id": "e3122da5",
   "metadata": {},
   "source": [
    "Using Tweepy, we use our twitter developer account’s credentials to authorise it’s usage and create an instance of the Tweepy API.\n",
    "\n",
    "https://docs.tweepy.org/en/stable/auth_tutorial.html"
   ]
  },
  {
   "cell_type": "code",
   "execution_count": 3,
   "id": "1fed6860",
   "metadata": {},
   "outputs": [],
   "source": [
    "import tweepy\n",
    "\n",
    "# API credentials\n",
    "api_key = 'eqpYibo0WT2jOr675owJSUNmi'\n",
    "api_secret_key = 'rh8HHqs79JSAyyp9xWZBV9BVrGxqBqOKHml2oRDU3bTzU8XVcj'\n",
    "\n",
    "# Access token credentials\n",
    "access_token = '1449033199422693384-E5rEswGDQSyhGUljpUSTrHK1Vuc5az'\n",
    "access_token_secret = 'jVjhFidOjMKEQtmRdTVgnkauwYcy45NpSl50WjT5a77bJ'\n",
    "\n",
    "\n",
    "auth = tweepy.OAuthHandler(api_key, api_secret_key) # Create authorisation instance\n",
    "auth.set_access_token(access_token, access_token_secret) # Configure with our access token\n",
    "\n",
    "api = tweepy.API(auth); # Create an instance of the tweepy API using the above authenication instance"
   ]
  },
  {
   "cell_type": "markdown",
   "id": "42c3ca06",
   "metadata": {},
   "source": [
    "Store user account references in a list\n",
    "\n",
    "https://docs.tweepy.org/en/stable/api.html#tweepy.API.get_user"
   ]
  },
  {
   "cell_type": "code",
   "execution_count": 4,
   "id": "e525d35b",
   "metadata": {},
   "outputs": [],
   "source": [
    "users = [api.get_user(screen_name = 'iJustine')]"
   ]
  },
  {
   "cell_type": "markdown",
   "id": "4a38c715",
   "metadata": {},
   "source": [
    "Display key information of the accounts"
   ]
  },
  {
   "cell_type": "code",
   "execution_count": 5,
   "id": "8d4f6000",
   "metadata": {},
   "outputs": [
    {
     "name": "stdout",
     "output_type": "stream",
     "text": [
      "iJustine: Followers (1794971), Tweets (60372) - Created at 10-10-2006 02:53:00 UTC\n"
     ]
    }
   ],
   "source": [
    "for user in users:\n",
    "    print(\"{}: Followers ({}), Tweets ({}) - Created at {}\".format(user.name, user.followers_count, user.statuses_count, user.created_at.strftime('%d-%m-%Y %H:%M:%S %Z')))"
   ]
  },
  {
   "cell_type": "markdown",
   "id": "b3f43a50",
   "metadata": {},
   "source": [
    "## Data extraction\n",
    "\n",
    "We extract all relevant raw data for the 3 accounts from twitter using the Tweepy API. \n",
    "\n",
    "This section is regarding the raw extraction of data using the API calls available, in order to obtain all relevant data.\n",
    "\n",
    "In order to obtain the following list, we searched the api documentation for Tweepy (https://docs.tweepy.org/en/stable/api.html) and sought at methods which can acquire useful data of an account.\n",
    "\n",
    "\n",
    "The list below shows all the raw data that we will be extracting from the accounts:\n",
    "- Number of accounts that they are following.\n",
    "- Number of followers.\n",
    "- Number of original tweets that were posted.\n",
    "- Number of likes that each original tweet has.\n",
    "- Number of times that each original tweet have been retweeted.\n",
    "- Number of retweets that were posted.\n",
    "- Number of times that the accounts were mentioned."
   ]
  },
  {
   "cell_type": "code",
   "execution_count": null,
   "id": "55209b17",
   "metadata": {},
   "outputs": [],
   "source": []
  },
  {
   "cell_type": "markdown",
   "id": "c2afedc4",
   "metadata": {},
   "source": [
    "## Data pre-processing"
   ]
  },
  {
   "cell_type": "code",
   "execution_count": 6,
   "id": "6c42a385",
   "metadata": {},
   "outputs": [],
   "source": [
    "# Into Pandas dataframes"
   ]
  },
  {
   "cell_type": "markdown",
   "id": "197d1ccd",
   "metadata": {},
   "source": [
    "## Data cleansing"
   ]
  },
  {
   "cell_type": "code",
   "execution_count": null,
   "id": "393c4ebb",
   "metadata": {},
   "outputs": [],
   "source": []
  },
  {
   "cell_type": "markdown",
   "id": "e312c9d6",
   "metadata": {},
   "source": [
    "## Task 1 Conclusion"
   ]
  },
  {
   "cell_type": "markdown",
   "id": "3cca11cd",
   "metadata": {},
   "source": [
    "# Task 2 - Exploratory Data Analysis (EDA)"
   ]
  },
  {
   "cell_type": "code",
   "execution_count": null,
   "id": "64320891",
   "metadata": {},
   "outputs": [],
   "source": []
  }
 ],
 "metadata": {
  "kernelspec": {
   "display_name": "Python 3",
   "language": "python",
   "name": "python3"
  },
  "language_info": {
   "codemirror_mode": {
    "name": "ipython",
    "version": 3
   },
   "file_extension": ".py",
   "mimetype": "text/x-python",
   "name": "python",
   "nbconvert_exporter": "python",
   "pygments_lexer": "ipython3",
   "version": "3.8.8"
  }
 },
 "nbformat": 4,
 "nbformat_minor": 5
}
